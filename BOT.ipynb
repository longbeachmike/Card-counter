{
 "cells": [
  {
   "cell_type": "code",
   "execution_count": 1,
   "metadata": {},
   "outputs": [],
   "source": [
    "from selenium import webdriver\n",
    "from selenium.common.exceptions import NoSuchElementException   \n",
    "from IPython.display import display, clear_output\n",
    "import ipywidgets as widgets\n",
    "from selenium.common import exceptions\n",
    "import time\n",
    "import random \n",
    "import keyboard"
   ]
  },
  {
   "cell_type": "code",
   "execution_count": 2,
   "metadata": {},
   "outputs": [],
   "source": [
    "import threading\n",
    "import keyboard"
   ]
  },
  {
   "cell_type": "code",
   "execution_count": 14,
   "metadata": {},
   "outputs": [],
   "source": [
    "### User Name\n",
    "USER_ = \"\"\n",
    "### Pword\n",
    "PASS_ = \"\"\n",
    "\n",
    "### global variable\n",
    "VERY_VERY_QUICKWAIT_ = 0.05\n",
    "VERY_QUICKWAIT_ = 0.3\n",
    "QUICK_WAIT_ = 0.5 \n",
    "MEDIUM_WAIT_ = 1 \n",
    "LONG__WAIT_ = 3 \n",
    "\n",
    "### Table\n",
    "Table = []\n",
    "\n",
    "### Card dealt\n",
    "Card_dealt = []"
   ]
  },
  {
   "cell_type": "code",
   "execution_count": 15,
   "metadata": {},
   "outputs": [
    {
     "data": {
      "text/plain": [
       "[]"
      ]
     },
     "execution_count": 15,
     "metadata": {},
     "output_type": "execute_result"
    }
   ],
   "source": [
    "Card_dealt"
   ]
  },
  {
   "cell_type": "code",
   "execution_count": 16,
   "metadata": {},
   "outputs": [],
   "source": [
    "### Helping function "
   ]
  },
  {
   "cell_type": "code",
   "execution_count": 17,
   "metadata": {},
   "outputs": [],
   "source": [
    "# ------------ Waiting functions --------------    \n",
    "def VERY_QUICKWAIT():  # Entre chaques entrees\n",
    "    return VERY_QUICKWAIT_ + (random.random() / 10)\n",
    "\n",
    "def QUICK_WAIT():\n",
    "    return QUICK_WAIT_ + (random.random() / 5)\n",
    "\n",
    "def MEDIUM_WAIT(): \n",
    "    return MEDIUM_WAIT_ + (random.random() / 2)\n",
    "\n",
    "def LONG_ASS_WAIT(): # Pour la navigation entre les pages\n",
    "    return LONG_ASS_WAIT_ + (random.random() / 1)\n",
    "\n",
    "# slow typing function\n",
    "def slow_typing(element, text):\n",
    "   for character in text:\n",
    "      element.send_keys(character)\n",
    "      time.sleep(VERY_QUICKWAIT())\n",
    "       \n",
    "def check_exists_by_xpath(xpath):\n",
    "    try:\n",
    "        browser.find_element_by_xpath(xpath)\n",
    "    except NoSuchElementException:\n",
    "        return False\n",
    "    return True\n",
    "\n",
    "def on_button_clicked(b):\n",
    "    with output:\n",
    "        print(\"Button clicked.\")    \n",
    "\n",
    "def Hi_Lo(Table, Card_dealt):    \n",
    "    count = 0\n",
    "    for c in Table + Card_dealt:\n",
    "        if c[-1] in (\"0\",\"K\",\"J\",\"Q\",\"A\"):\n",
    "            count -= 1\n",
    "        if c[-1] in (\"2\",\"3\",\"4\",\"5\",\"6\"):\n",
    "            count += 1  \n",
    "    return count"
   ]
  },
  {
   "cell_type": "code",
   "execution_count": null,
   "metadata": {},
   "outputs": [],
   "source": []
  },
  {
   "cell_type": "code",
   "execution_count": 18,
   "metadata": {},
   "outputs": [],
   "source": [
    "def open_browser():\n",
    "    browser = webdriver.Firefox()\n",
    "    browser.get('https://portail.espacejeux.com/en/home')\n",
    "    time.sleep(LONG_ASS_WAIT())"
   ]
  },
  {
   "cell_type": "code",
   "execution_count": 19,
   "metadata": {},
   "outputs": [],
   "source": [
    "### Function to open casino\n",
    "def open_casino(browser):\n",
    "    \n",
    "    login_button = browser.find_element_by_xpath(\"//a[@id='mel-nav-toggle-conn']\")\n",
    "    login_button.click()\n",
    "    ### fill in the login informations \n",
    "    Username = browser.find_element_by_xpath(\"//input[@id='login_username']\")\n",
    "    slow_typing(Username, USER_)\n",
    "\n",
    "    Password = browser.find_element_by_xpath(\"//input[@id='login_password']\")\n",
    "    slow_typing(Password, PASS_)\n",
    "\n",
    "    time.sleep(QUICK_WAIT())\n",
    "\n",
    "    LoginForReal = browser.find_element_by_xpath(\"//button[@id='btn-login']\")\n",
    "    LoginForReal.click()\n",
    "    \n",
    "    ### Casino \n",
    "    time.sleep(LONG_WAIT())\n",
    "    Casino = browser.find_element_by_xpath(\"//a[@href='https://www.espacejeux.com/en/casino']\")\n",
    "    Casino.click()\n",
    "    \n",
    "    ### Live Casino BlackJack\n",
    "    time.sleep(LONG_WAIT())\n",
    "    Casino_BJ = browser.find_element_by_xpath(\"//button[@class='menu-item__btn']\")\n",
    "    Casino_BJ.click()\n",
    "    time.sleep(QUICK_WAIT())\n",
    "\n",
    "    Casino_BJ = browser.find_element_by_xpath(\"//a[@href='/en/casino/live-casino/live-blackjack']\")\n",
    "    Casino_BJ.click()\n",
    "    \n",
    "    ### BlackJack Party\n",
    "    time.sleep(LONG_WAIT())\n",
    "    Casino_BJ_Party = browser.find_element_by_xpath(\"//span[text()='Blackjack Party']/../../../a[@class='buttonJouer']\")\n",
    "    Casino_BJ_Party.click()\n",
    "    \n",
    "    ### Switch to casino window\n",
    "    time.sleep(LONG_WAIT()+ 2)\n",
    "    browser.switch_to.window(browser.window_handles[1])\n",
    "    \n",
    "    ### Change camera view for html display \n",
    "    time.sleep(LONG_WAIT())\n",
    "    Change_camera = browser.find_element_by_xpath(\"//button[@data-role='video-button']\")\n",
    "    Change_camera.click()"
   ]
  },
  {
   "cell_type": "code",
   "execution_count": 22,
   "metadata": {},
   "outputs": [],
   "source": [
    "keep_going = True\n",
    "def key_capture_thread():\n",
    "    global keep_going\n",
    "    while True:\n",
    "        if keyboard.is_pressed('q'): \n",
    "            keep_going = False"
   ]
  },
  {
   "cell_type": "code",
   "execution_count": 23,
   "metadata": {
    "scrolled": true
   },
   "outputs": [],
   "source": [
    "def bot_thread(browser, Table):\n",
    "    threading.Thread(target=key_capture_thread, args=(), name='key_capture_thread', daemon=True).start()\n",
    "    global Card_dealt\n",
    "    while(keep_going):\n",
    "        if check_exists_by_xpath(\"//div[@data-role='inactivity-message-clickable']\"):\n",
    "            MEDIUM_WAIT()\n",
    "            print(\"Innactif\")\n",
    "            browser.find_element_by_xpath(\"//div[@data-role='inactivity-message-clickable']\").click()\n",
    "        else:\n",
    "            time.sleep(VERY_VERY_QUICKWAIT_)\n",
    "            Previous_round = Table\n",
    "            Table = []\n",
    "            try :\n",
    "                #print('----------- Seat D ------------') #           \n",
    "                SeatDealer_cards = browser.find_element_by_xpath(\"//div[@data-role='seatDealer']\")   \n",
    "                CardsDealer = SeatDealer_cards.find_elements_by_xpath(\".//span[@cl='wrapper--1U4HP']\")\n",
    "                for card in CardsDealer:\n",
    "                    Table.append(card.get_attribute('data-role'))\n",
    "\n",
    "                #print('----------- Seat 7 ------------') #        \n",
    "                Seat7_cards = browser.find_element_by_xpath(\"//div[@data-role='seat7']\")   \n",
    "                Cards7 = Seat7_cards.find_elements_by_xpath(\".//span[@cl='wrapper--1U4HP']\")\n",
    "                for card in Cards7:\n",
    "                    Table.append(card.get_attribute('data-role'))\n",
    "\n",
    "                #print('----------- Seat 6 ------------') # \n",
    "                Seat6_cards = browser.find_element_by_xpath(\"//div[@data-role='seat6']\")   \n",
    "                Cards6 = Seat6_cards.find_elements_by_xpath(\".//span[@cl='wrapper--1U4HP']\")\n",
    "                for card in Cards6:\n",
    "                    Table.append(card.get_attribute('data-role'))\n",
    "\n",
    "                #print('----------- Seat 5 ------------') # \n",
    "                Seat5_cards = browser.find_element_by_xpath(\"//div[@data-role='seat5']\")   \n",
    "                Cards5 = Seat5_cards.find_elements_by_xpath(\".//span[@cl='wrapper--1U4HP']\")\n",
    "                for card in Cards5:\n",
    "                    Table.append(card.get_attribute('data-role'))\n",
    "\n",
    "                #print('----------- Seat 4 ------------') #   \n",
    "                Seat4_cards = browser.find_element_by_xpath(\"//div[@data-role='seat4']\")   \n",
    "                Cards4 = Seat4_cards.find_elements_by_xpath(\".//span[@cl='wrapper--1U4HP']\")\n",
    "                for card in Cards4:\n",
    "                    Table.append(card.get_attribute('data-role'))\n",
    "\n",
    "                #print('----------- Seat 3 ------------') #   \n",
    "                Seat3_cards = browser.find_element_by_xpath(\"//div[@data-role='seat3']\")   \n",
    "                Cards3 = Seat3_cards.find_elements_by_xpath(\".//span[@cl='wrapper--1U4HP']\")\n",
    "                for card in Cards3:\n",
    "                    Table.append(card.get_attribute('data-role'))\n",
    "\n",
    "                #print('----------- Seat 2 ------------') #   \n",
    "                Seat2_cards = browser.find_element_by_xpath(\"//div[@data-role='seat2']\")   \n",
    "                Cards2 = Seat2_cards.find_elements_by_xpath(\".//span[@cl='wrapper--1U4HP']\")\n",
    "                for card in Cards2:\n",
    "                    Table.append(card.get_attribute('data-role'))\n",
    "\n",
    "                #print('----------- Seat 1 ------------') #\n",
    "                Seat1_cards = browser.find_element_by_xpath(\"//div[@data-role='seat1']\")   \n",
    "                Cards1 = Seat1_cards.find_elements_by_xpath(\".//span[@cl='wrapper--1U4HP']\")\n",
    "                for card in Cards1:\n",
    "                    Table.append(card.get_attribute('data-role'))\n",
    "\n",
    "            except exceptions.StaleElementReferenceException as e:\n",
    "                time.sleep(QUICK_WAIT_)\n",
    "\n",
    "            except exceptions.NoSuchElementException as e:\n",
    "                time.sleep(QUICK_WAIT_)\n",
    "\n",
    "            if len(Table) == 0:\n",
    "                # next round\n",
    "                if len(Previous_round) != 0: \n",
    "                    Card_dealt = Card_dealt + Previous_round\n",
    "                    Previous_round = []\n",
    "\n",
    "\n",
    "            clear_output(wait=True)\n",
    "            #display(Table)\n",
    "\n",
    "            print(\"-------- Count -------------\")\n",
    "\n",
    "            #display(Card_dealt)\n",
    "            display(\"Count :\", Hi_Lo(Table, Card_dealt))\n",
    "            threading.Thread(target=key_capture_thread, args=(), name='key_capture_thread', daemon=True).start()"
   ]
  },
  {
   "cell_type": "code",
   "execution_count": 24,
   "metadata": {},
   "outputs": []
    }
   ],
   "source": [
    "browser = webdriver.Firefox()\n",
    "browser.get('https://portail.espacejeux.com/en/home')\n",
    "time.sleep(LONG_ASS_WAIT())\n",
    "open_casino(browser)"
   ]
  },
  {
   "cell_type": "code",
   "execution_count": null,
   "metadata": {
    "scrolled": true
   },
   "outputs": [],
   "source": [
    "Table = []\n",
    "bot_thread(browser, Table)"
   ]
  },
  {
   "cell_type": "code",
   "execution_count": null,
   "metadata": {},
   "outputs": [],
   "source": [
    "browser.close()"
   ]
  }
 ],
 "metadata": {
  "kernelspec": {
   "display_name": "Python 3",
   "language": "python",
   "name": "python3"
  },
  "language_info": {
   "codemirror_mode": {
    "name": "ipython",
    "version": 3
   },
   "file_extension": ".py",
   "mimetype": "text/x-python",
   "name": "python",
   "nbconvert_exporter": "python",
   "pygments_lexer": "ipython3",
   "version": "3.6.12"
  }
 },
 "nbformat": 4,
 "nbformat_minor": 4
}
